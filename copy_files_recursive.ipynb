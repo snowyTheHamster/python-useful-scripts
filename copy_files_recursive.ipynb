{
  "nbformat": 4,
  "nbformat_minor": 0,
  "metadata": {
    "colab": {
      "name": "copy_files_recursive.ipynb",
      "provenance": [],
      "collapsed_sections": [],
      "authorship_tag": "ABX9TyOELLwEjTb2WBgJm2PEgr6e",
      "include_colab_link": true
    },
    "kernelspec": {
      "name": "python3",
      "display_name": "Python 3"
    }
  },
  "cells": [
    {
      "cell_type": "markdown",
      "metadata": {
        "id": "view-in-github",
        "colab_type": "text"
      },
      "source": [
        "<a href=\"https://colab.research.google.com/github/snowyTheHamster/python-useful-scripts/blob/master/copy_files_recursive.ipynb\" target=\"_parent\"><img src=\"https://colab.research.google.com/assets/colab-badge.svg\" alt=\"Open In Colab\"/></a>"
      ]
    },
    {
      "cell_type": "markdown",
      "metadata": {
        "id": "xzt8VA637HcD"
      },
      "source": [
        ""
      ]
    },
    {
      "cell_type": "markdown",
      "metadata": {
        "id": "88oCYjg37HjA"
      },
      "source": [
        "### 1. Mount Google Drive"
      ]
    },
    {
      "cell_type": "code",
      "metadata": {
        "colab": {
          "base_uri": "https://localhost:8080/"
        },
        "id": "IVPvUscd7Hpv",
        "outputId": "459cefb1-4d06-419a-937a-507960ccb700"
      },
      "source": [
        "from google.colab import drive\r\n",
        "import os\r\n",
        "import shutil\r\n",
        "\r\n",
        "drive.mount('/content/drive/')"
      ],
      "execution_count": 1,
      "outputs": [
        {
          "output_type": "stream",
          "text": [
            "Mounted at /content/drive/\n"
          ],
          "name": "stdout"
        }
      ]
    },
    {
      "cell_type": "markdown",
      "metadata": {
        "id": "vygu72WG7Hx9"
      },
      "source": [
        "### 2. Adjust Settings Below"
      ]
    },
    {
      "cell_type": "code",
      "metadata": {
        "id": "nvgCiMot7H4X"
      },
      "source": [
        "# Make sure folder names match what you created in google drive\r\n",
        "project_folder = 'playground'\r\n",
        "input_folder = 'files_to_copy'\r\n",
        "output_folder = 'files_output'\r\n",
        "\r\n",
        "\r\n",
        "# dont need to change these\r\n",
        "work_dir = os.path.join('/content/drive/My Drive/', project_folder)\r\n",
        "INPUT_DIR = os.path.join(work_dir, input_folder)\r\n",
        "OUTPUT_DIR = os.path.join(work_dir, output_folder)"
      ],
      "execution_count": 2,
      "outputs": []
    },
    {
      "cell_type": "markdown",
      "metadata": {
        "id": "6mSuMqjd7H-Q"
      },
      "source": [
        "### 3. Run Script"
      ]
    },
    {
      "cell_type": "code",
      "metadata": {
        "colab": {
          "base_uri": "https://localhost:8080/"
        },
        "id": "O-3hQEeD7ID9",
        "outputId": "27bd0fa2-c3a7-46ec-b3dc-dffa6c407615"
      },
      "source": [
        "for root, dirs, files in os.walk(INPUT_DIR):\r\n",
        "  count = 0  \r\n",
        "  for file_ in files:\r\n",
        "    count += 1\r\n",
        "    path_original = os.path.join(root, file_)\r\n",
        "    print(f'original path: {path_original}')\r\n",
        "\r\n",
        "    path_target = os.path.join(OUTPUT_DIR, file_)\r\n",
        "    print(f'target path: {path_target}')\r\n",
        "\r\n",
        "    shutil.copy2(path_original, path_target)\r\n",
        "    print(f'copying {count}/{len(files)} files...')"
      ],
      "execution_count": 3,
      "outputs": [
        {
          "output_type": "stream",
          "text": [
            "original path: /content/drive/My Drive/playground/files_to_copy/inroot.txt\n",
            "target path: /content/drive/My Drive/playground/files_output/inroot.txt\n",
            "copying 1/1 files...\n",
            "original path: /content/drive/My Drive/playground/files_to_copy/a/ina.txt\n",
            "target path: /content/drive/My Drive/playground/files_output/ina.txt\n",
            "copying 1/1 files...\n",
            "original path: /content/drive/My Drive/playground/files_to_copy/b/inb.txt\n",
            "target path: /content/drive/My Drive/playground/files_output/inb.txt\n",
            "copying 1/1 files...\n",
            "original path: /content/drive/My Drive/playground/files_to_copy/b/c/workc.txt\n",
            "target path: /content/drive/My Drive/playground/files_output/workc.txt\n",
            "copying 1/1 files...\n"
          ],
          "name": "stdout"
        }
      ]
    },
    {
      "cell_type": "markdown",
      "metadata": {
        "id": "cZbg1-Wc7IJP"
      },
      "source": [
        "### 4. Unmount Google Drive"
      ]
    },
    {
      "cell_type": "code",
      "metadata": {
        "colab": {
          "base_uri": "https://localhost:8080/"
        },
        "id": "8C2WAxxU7IO9",
        "outputId": "96ceed18-6787-446c-e424-38e50c732901"
      },
      "source": [
        "drive.flush_and_unmount()\r\n",
        "print('All changes made in this colab session should now be visible in Drive.')"
      ],
      "execution_count": 4,
      "outputs": [
        {
          "output_type": "stream",
          "text": [
            "All changes made in this colab session should now be visible in Drive.\n"
          ],
          "name": "stdout"
        }
      ]
    }
  ]
}