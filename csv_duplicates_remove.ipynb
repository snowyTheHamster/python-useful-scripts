{
  "nbformat": 4,
  "nbformat_minor": 0,
  "metadata": {
    "colab": {
      "name": "csv_duplicates_remove.ipynb",
      "provenance": [],
      "collapsed_sections": [],
      "authorship_tag": "ABX9TyMA1e1mxOuwF7VTX8ZiAnNb",
      "include_colab_link": true
    },
    "kernelspec": {
      "name": "python3",
      "display_name": "Python 3"
    }
  },
  "cells": [
    {
      "cell_type": "markdown",
      "metadata": {
        "id": "view-in-github",
        "colab_type": "text"
      },
      "source": [
        "<a href=\"https://colab.research.google.com/github/snowyTheHamster/python-useful-scripts/blob/master/csv_duplicates_remove.ipynb\" target=\"_parent\"><img src=\"https://colab.research.google.com/assets/colab-badge.svg\" alt=\"Open In Colab\"/></a>"
      ]
    },
    {
      "cell_type": "markdown",
      "metadata": {
        "id": "9wEvaN98fIkV"
      },
      "source": [
        "### Remove CSV Duplicates\r\n",
        "\r\n",
        "Find and remove duplicates entries from two csv files (1st column only), and generate new csv file new unique values.\r\n",
        "\r\n",
        "---\r\n",
        "\r\n",
        "### How to use\r\n",
        "**Prepare folders**\r\n",
        "\r\n",
        "+ Create a project folder in Google Drive.\r\n",
        "+ Prepare two csv files inside project folder for comparison.\r\n",
        "\r\n",
        "**Adjust settings in step 2**\r\n",
        "\r\n",
        "+ Make sure the names of the folders, csv files match what you created.\r\n",
        "\r\n",
        "**Run Code**\r\n",
        "\r\n",
        "+ Run each of the blocks in order."
      ]
    },
    {
      "cell_type": "markdown",
      "metadata": {
        "id": "2Cl0CqR4fInE"
      },
      "source": [
        "### 1. Mount Google Drive"
      ]
    },
    {
      "cell_type": "code",
      "metadata": {
        "id": "gDysy-i_fIvf"
      },
      "source": [
        "from google.colab import drive\r\n",
        "import os\r\n",
        "import csv\r\n",
        "\r\n",
        "drive.mount('/content/drive/')"
      ],
      "execution_count": null,
      "outputs": []
    },
    {
      "cell_type": "markdown",
      "metadata": {
        "id": "KXBnnOd0fI4Z"
      },
      "source": [
        "### 2. Adjust Settings Below"
      ]
    },
    {
      "cell_type": "code",
      "metadata": {
        "id": "ATZPuM3LfI9e"
      },
      "source": [
        "# Make sure folder names match what you created in google drive\r\n",
        "project_folder = 'playground'\r\n",
        "csv_a = 'file_1.csv'\r\n",
        "csv_b = 'file_2.csv'\r\n",
        "csv_c = 'unique_list.csv'\r\n",
        "\r\n",
        "\r\n",
        "# dont need to change these\r\n",
        "work_dir = os.path.join('/content/drive/My Drive/', project_folder)\r\n",
        "csv_a_full = os.path.join(work_dir, csv_a)\r\n",
        "csv_b_full = os.path.join(work_dir, csv_a)\r\n",
        "csv_new_full = os.path.join(work_dir, csv_c)"
      ],
      "execution_count": 4,
      "outputs": []
    },
    {
      "cell_type": "markdown",
      "metadata": {
        "id": "S0wYWE0ZfJDi"
      },
      "source": [
        "### 3. Run Script"
      ]
    },
    {
      "cell_type": "code",
      "metadata": {
        "colab": {
          "base_uri": "https://localhost:8080/"
        },
        "id": "WcEJ0JnAfJIb",
        "outputId": "4f755700-1da9-45e9-8357-62215cb4fe64"
      },
      "source": [
        "set_a = set()\r\n",
        "set_b = set()\r\n",
        "\r\n",
        "csvfiles = [csv_a_full, csv_b_full]\r\n",
        "thesets = [set_a, set_b]\r\n",
        "\r\n",
        "list_unique = []\r\n",
        "\r\n",
        "# add each csv files values to a separate set \r\n",
        "for mycsv, theset in zip(csvfiles, thesets):\r\n",
        "  with open(mycsv, newline='', encoding='utf-8-sig') as csvfile:\r\n",
        "      spamreader = csv.reader(csvfile, delimiter=',', quotechar='|')\r\n",
        "      for row in spamreader:\r\n",
        "          theset.add(row[0])\r\n",
        "\r\n",
        "\r\n",
        "# see which items are duplicates\r\n",
        "duplicate_results = thesets[0].intersection(thesets[1])\r\n",
        "print(f'duplicates in both sets: {duplicate_results}')\r\n",
        "print('\\n')\r\n",
        "\r\n",
        "\r\n",
        "# merge two sets and append to list\r\n",
        "set_c = thesets[0].union(thesets[1])\r\n",
        "for item in set_c:\r\n",
        "    list_unique.append(item)\r\n",
        "list_unique.sort()\r\n",
        "\r\n",
        "\r\n",
        "# write list to new csv file\r\n",
        "with open(csv_new_full, mode='w', newline='', encoding='utf-8-sig') as new_file:\r\n",
        "    new_writer = csv.writer(new_file, delimiter=',', quotechar='|', quoting=csv.QUOTE_MINIMAL)\r\n",
        "    for item in list_unique:\r\n",
        "        print(f'writing unique item: {item} to new file')\r\n",
        "        new_writer.writerow([item])"
      ],
      "execution_count": 5,
      "outputs": [
        {
          "output_type": "stream",
          "text": [
            "duplicates in both sets: {'52ME7632', '52MW7007', '52MA9A02', '52JW0012', 'mach'}\n",
            "\n",
            "\n",
            "writing unique item: 52JW0012 to new file\n",
            "writing unique item: 52MA9A02 to new file\n",
            "writing unique item: 52ME7632 to new file\n",
            "writing unique item: 52MW7007 to new file\n",
            "writing unique item: mach to new file\n"
          ],
          "name": "stdout"
        }
      ]
    },
    {
      "cell_type": "markdown",
      "metadata": {
        "id": "4Lo6DS-TfJN7"
      },
      "source": [
        "### 4. Unmount Google Drive"
      ]
    },
    {
      "cell_type": "code",
      "metadata": {
        "colab": {
          "base_uri": "https://localhost:8080/"
        },
        "id": "g6YzWERYfJSo",
        "outputId": "5f024d9a-6d56-4f47-8739-a8f7ff418c83"
      },
      "source": [
        "drive.flush_and_unmount()\r\n",
        "print('All changes made in this colab session should now be visible in Drive.')"
      ],
      "execution_count": 6,
      "outputs": [
        {
          "output_type": "stream",
          "text": [
            "All changes made in this colab session should now be visible in Drive.\n"
          ],
          "name": "stdout"
        }
      ]
    }
  ]
}