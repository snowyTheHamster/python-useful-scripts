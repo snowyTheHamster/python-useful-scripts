{
  "nbformat": 4,
  "nbformat_minor": 0,
  "metadata": {
    "colab": {
      "name": "pdf_merge_files.ipynb",
      "provenance": [],
      "collapsed_sections": [],
      "authorship_tag": "ABX9TyN2v9EKj4qc9xVeeI+eUQew",
      "include_colab_link": true
    },
    "kernelspec": {
      "name": "python3",
      "display_name": "Python 3"
    }
  },
  "cells": [
    {
      "cell_type": "markdown",
      "metadata": {
        "id": "view-in-github",
        "colab_type": "text"
      },
      "source": [
        "<a href=\"https://colab.research.google.com/github/snowyTheHamster/python-useful-scripts/blob/master/pdf_merge_files.ipynb\" target=\"_parent\"><img src=\"https://colab.research.google.com/assets/colab-badge.svg\" alt=\"Open In Colab\"/></a>"
      ]
    },
    {
      "cell_type": "markdown",
      "metadata": {
        "id": "Arz5WusFkyyL"
      },
      "source": [
        "### Merge PDF Files\r\n",
        "\r\n",
        "Merge all pdf files in a folder.\r\n",
        "\r\n",
        "---\r\n",
        "\r\n",
        "### How to use\r\n",
        "**Prepare folders**\r\n",
        "\r\n",
        "+ Create a project folder in Google Drive.\r\n",
        "+ Create a folder inside project folder with pdf files.\r\n",
        "\r\n",
        "**Adjust settings in step 2**\r\n",
        "\r\n",
        "+ Make sure the names of the folders match what you created.\r\n",
        "\r\n",
        "**Run Code**\r\n",
        "\r\n",
        "+ Run each of the blocks in order."
      ]
    },
    {
      "cell_type": "markdown",
      "metadata": {
        "id": "q2qBoCKakzAx"
      },
      "source": [
        "### 1. Mount Google Drive"
      ]
    },
    {
      "cell_type": "code",
      "metadata": {
        "id": "NwIWa9TbkzGv"
      },
      "source": [
        "from google.colab import drive\r\n",
        "import os\r\n",
        "!pip install PyPDF2\r\n",
        "from PyPDF2 import PdfFileMerger, PdfFileReader\r\n",
        "\r\n",
        "drive.mount('/content/drive/')"
      ],
      "execution_count": null,
      "outputs": []
    },
    {
      "cell_type": "markdown",
      "metadata": {
        "id": "ZiFB_IChkzTi"
      },
      "source": [
        "### 2. Adjust Settings Below"
      ]
    },
    {
      "cell_type": "code",
      "metadata": {
        "id": "VJiccFQEkzZr"
      },
      "source": [
        "# Make sure folder names match what you created in google drive\r\n",
        "project_folder = 'playground'\r\n",
        "input_folder = 'pdfs_here'\r\n",
        "output_pdf_name = 'output.pdf'\r\n",
        "\r\n",
        "\r\n",
        "# dont need to change these\r\n",
        "work_dir = os.path.join('/content/drive/My Drive/', project_folder)\r\n",
        "INPUT_DIR = os.path.join(work_dir, input_folder)"
      ],
      "execution_count": 3,
      "outputs": []
    },
    {
      "cell_type": "markdown",
      "metadata": {
        "id": "EGPKo6Fwkzgm"
      },
      "source": [
        "### 3. Run Script"
      ]
    },
    {
      "cell_type": "code",
      "metadata": {
        "colab": {
          "base_uri": "https://localhost:8080/"
        },
        "id": "pfeQzHGjkzmZ",
        "outputId": "fd64aaf9-e887-4893-febe-931532f794bc"
      },
      "source": [
        "merged_object = PdfFileMerger()\r\n",
        "\r\n",
        "lst_pdfs = []\r\n",
        "for obj in os.listdir(INPUT_DIR):\r\n",
        "    if '.pdf' in obj:\r\n",
        "        lst_pdfs.append(obj)\r\n",
        "        print(lst_pdfs)\r\n",
        "\r\n",
        "for file_name in lst_pdfs:\r\n",
        "    merged_object.append(PdfFileReader(f'{INPUT_DIR}/{file_name}'), 'rb')\r\n",
        "merged_object.write(f'{INPUT_DIR}/{output_pdf_name}')\r\n",
        "print(f'All pdf files merged into {output_pdf_name}')"
      ],
      "execution_count": 5,
      "outputs": [
        {
          "output_type": "stream",
          "text": [
            "['16SS Football Launching Plan.pdf']\n",
            "['16SS Football Launching Plan.pdf', '16SS Football Accessories.pdf']\n",
            "['16SS Football Launching Plan.pdf', '16SS Football Accessories.pdf', '16SS BGSUPPORTER.pdf']\n",
            "All pdf files merged into output.pdf\n"
          ],
          "name": "stdout"
        }
      ]
    },
    {
      "cell_type": "markdown",
      "metadata": {
        "id": "2xDmHwFNkzsH"
      },
      "source": [
        "### 4. Unmount Google Drive"
      ]
    },
    {
      "cell_type": "code",
      "metadata": {
        "colab": {
          "base_uri": "https://localhost:8080/"
        },
        "id": "H6pjHeI-kzxK",
        "outputId": "004ad8cc-6e10-4731-e160-7a570d1152ec"
      },
      "source": [
        "drive.flush_and_unmount()\r\n",
        "print('All changes made in this colab session should now be visible in Drive.')"
      ],
      "execution_count": 6,
      "outputs": [
        {
          "output_type": "stream",
          "text": [
            "All changes made in this colab session should now be visible in Drive.\n"
          ],
          "name": "stdout"
        }
      ]
    }
  ]
}