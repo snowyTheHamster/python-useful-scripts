{
  "nbformat": 4,
  "nbformat_minor": 0,
  "metadata": {
    "colab": {
      "name": "bulk_unzip_files.ipynb",
      "provenance": [],
      "collapsed_sections": [],
      "authorship_tag": "ABX9TyMPBbkTkbRq/PpeFNsFZfWl",
      "include_colab_link": true
    },
    "kernelspec": {
      "name": "python3",
      "display_name": "Python 3"
    }
  },
  "cells": [
    {
      "cell_type": "markdown",
      "metadata": {
        "id": "view-in-github",
        "colab_type": "text"
      },
      "source": [
        "<a href=\"https://colab.research.google.com/github/snowyTheHamster/python-useful-scripts/blob/master/bulk_unzip_files.ipynb\" target=\"_parent\"><img src=\"https://colab.research.google.com/assets/colab-badge.svg\" alt=\"Open In Colab\"/></a>"
      ]
    },
    {
      "cell_type": "markdown",
      "metadata": {
        "id": "_gbb0pKQMDA1"
      },
      "source": [
        "### Bulk Unzip files\r\n",
        "\r\n",
        "Bulk unzip files in a folder.\r\n",
        "\r\n",
        "---\r\n",
        "\r\n",
        "### How to use\r\n",
        "**Prepare folders**\r\n",
        "\r\n",
        "+ Create a project folder in Google Drive.\r\n",
        "+ Create a folder inside project folder with zipped files.\r\n",
        "+ Create another folder inside project folder to output results.\r\n",
        "\r\n",
        "**Adjust variables and settings in step 2**\r\n",
        "\r\n",
        "+ Make sure folder names match what you created.\r\n",
        "\r\n",
        "**Run Code**\r\n",
        "\r\n",
        "+ Run each of the blocks in order 1 ~ 4."
      ]
    },
    {
      "cell_type": "markdown",
      "metadata": {
        "id": "OM60wxdUMRun"
      },
      "source": [
        "### 1. Mount Google Drive"
      ]
    },
    {
      "cell_type": "code",
      "metadata": {
        "colab": {
          "base_uri": "https://localhost:8080/"
        },
        "id": "URoZZRuOMD0h",
        "outputId": "8ea2f3dd-99f4-4503-c2b4-52be80335e6c"
      },
      "source": [
        "from google.colab import drive\r\n",
        "from zipfile import ZipFile\r\n",
        "import os\r\n",
        "\r\n",
        "drive.mount('/content/drive/')"
      ],
      "execution_count": 2,
      "outputs": [
        {
          "output_type": "stream",
          "text": [
            "Mounted at /content/drive/\n"
          ],
          "name": "stdout"
        }
      ]
    },
    {
      "cell_type": "markdown",
      "metadata": {
        "id": "KOkYiiE2MkWn"
      },
      "source": [
        "### 2. Adjust Settings Below"
      ]
    },
    {
      "cell_type": "code",
      "metadata": {
        "id": "_yWwzeWwMmNX"
      },
      "source": [
        "# Make sure folder names match what you created in google drive\r\n",
        "project_folder = 'playground'\r\n",
        "input_folder = 'zipped_files'\r\n",
        "output_folder = 'unzipped_files'\r\n",
        "\r\n",
        "# dont need to change these\r\n",
        "work_dir = os.path.join('/content/drive/My Drive/', project_folder)\r\n",
        "INPUT_DIR = os.path.join(work_dir, input_folder)\r\n",
        "OUTPUT_DIR = os.path.join(work_dir, output_folder)"
      ],
      "execution_count": 3,
      "outputs": []
    },
    {
      "cell_type": "markdown",
      "metadata": {
        "id": "tgpUvJXqMH3U"
      },
      "source": [
        "### 3. Run Script"
      ]
    },
    {
      "cell_type": "code",
      "metadata": {
        "colab": {
          "base_uri": "https://localhost:8080/"
        },
        "id": "1fJTpMvQMXfk",
        "outputId": "3a1de5d5-feb4-44ad-ada5-d33898794f8d"
      },
      "source": [
        "for _, _, files in os.walk(INPUT_DIR):\r\n",
        "    for f in files:\r\n",
        "        if f.endswith('.zip'):\r\n",
        "            print(f'extracting {f} to {OUTPUT_DIR}...')\r\n",
        "            zip_file_fullpath = os.path.join(INPUT_DIR, f)\r\n",
        "            # Create a ZipFile Object and load zip file in it\r\n",
        "            with ZipFile(zip_file_fullpath, 'r') as zipObj:\r\n",
        "                # Extract all the contents of zip file in specified directory\r\n",
        "                zipObj.extractall(OUTPUT_DIR)\r\n",
        "        else:\r\n",
        "            print('file does not end with .zip, skipping...')\r\n",
        "print('done ...')"
      ],
      "execution_count": 5,
      "outputs": [
        {
          "output_type": "stream",
          "text": [
            "extracting catalog.lrcat (1).zip to /content/drive/My Drive/playground/unzipped_files...\n",
            "extracting catalog.lrcat.zip to /content/drive/My Drive/playground/unzipped_files...\n",
            "extracting catalog-2.lrcat.zip to /content/drive/My Drive/playground/unzipped_files...\n",
            "done ...\n"
          ],
          "name": "stdout"
        }
      ]
    },
    {
      "cell_type": "markdown",
      "metadata": {
        "id": "fPW6H84zMZg7"
      },
      "source": [
        "### 4. Unmount Google Drive"
      ]
    },
    {
      "cell_type": "code",
      "metadata": {
        "colab": {
          "base_uri": "https://localhost:8080/"
        },
        "id": "fhQlUYf6MdUt",
        "outputId": "bc11cdb1-99bb-443f-d194-a132aac1c628"
      },
      "source": [
        "drive.flush_and_unmount()\r\n",
        "print('All changes made in this colab session should now be visible in Drive.')"
      ],
      "execution_count": 6,
      "outputs": [
        {
          "output_type": "stream",
          "text": [
            "All changes made in this colab session should now be visible in Drive.\n"
          ],
          "name": "stdout"
        }
      ]
    }
  ]
}