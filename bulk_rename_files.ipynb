{
  "nbformat": 4,
  "nbformat_minor": 0,
  "metadata": {
    "colab": {
      "name": "bulk_rename_files.ipynb",
      "provenance": [],
      "collapsed_sections": [],
      "authorship_tag": "ABX9TyPVw0MBQJ/9IsRV6U0SWFPD",
      "include_colab_link": true
    },
    "kernelspec": {
      "name": "python3",
      "display_name": "Python 3"
    }
  },
  "cells": [
    {
      "cell_type": "markdown",
      "metadata": {
        "id": "view-in-github",
        "colab_type": "text"
      },
      "source": [
        "<a href=\"https://colab.research.google.com/github/snowyTheHamster/python-useful-scripts/blob/master/bulk_rename_files.ipynb\" target=\"_parent\"><img src=\"https://colab.research.google.com/assets/colab-badge.svg\" alt=\"Open In Colab\"/></a>"
      ]
    },
    {
      "cell_type": "markdown",
      "metadata": {
        "id": "yRNoj_yp-Qh1"
      },
      "source": [
        "### Bulk rename files\r\n",
        "\r\n",
        "Bulk Rename files in a folder.\r\n",
        "\r\n",
        "---\r\n",
        "\r\n",
        "### How to use\r\n",
        "**Prepare folders**\r\n",
        "\r\n",
        "+ Create a project folder in Google Drive.\r\n",
        "+ Create a folder inside project folder with files to rename.\r\n",
        "+ Create another folder inside project folder to output results.\r\n",
        "\r\n",
        "**Adjust settings in step 2**\r\n",
        "\r\n",
        "+ Make sure the names of the folders match what you created.\r\n",
        "+ Create conditions rules for renaming the files.\r\n",
        "\r\n",
        "**Run Code**\r\n",
        "\r\n",
        "+ Run each of the blocks in order."
      ]
    },
    {
      "cell_type": "markdown",
      "metadata": {
        "id": "RvKnTTPk-RHI"
      },
      "source": [
        "### 1. Mount Google Drive"
      ]
    },
    {
      "cell_type": "code",
      "metadata": {
        "colab": {
          "base_uri": "https://localhost:8080/"
        },
        "id": "Nc6Z82JC-RO-",
        "outputId": "6a867aff-36e1-4023-d922-9bb39c50ee2f"
      },
      "source": [
        "from google.colab import drive\r\n",
        "import os\r\n",
        "import glob\r\n",
        "\r\n",
        "drive.mount('/content/drive/')"
      ],
      "execution_count": 35,
      "outputs": [
        {
          "output_type": "stream",
          "text": [
            "Mounted at /content/drive/\n"
          ],
          "name": "stdout"
        }
      ]
    },
    {
      "cell_type": "markdown",
      "metadata": {
        "id": "o0hRQmE2-RUs"
      },
      "source": [
        "### 2. Adjust Settings Below"
      ]
    },
    {
      "cell_type": "code",
      "metadata": {
        "id": "8zEfqOQI-RZm"
      },
      "source": [
        "# Make sure folder names match what you created in google drive\r\n",
        "project_folder = 'playground'\r\n",
        "input_folder = 'files_to_rename'\r\n",
        "output_folder = 'files_renamed'\r\n",
        "\r\n",
        "# set file extension here\r\n",
        "file_ext = '.txt'\r\n",
        "\r\n",
        "\r\n",
        "# dont need to change these\r\n",
        "work_dir = os.path.join('/content/drive/My Drive/', project_folder)\r\n",
        "INPUT_DIR = os.path.join(work_dir, input_folder)\r\n",
        "OUTPUT_DIR = os.path.join(work_dir, output_folder)"
      ],
      "execution_count": 36,
      "outputs": []
    },
    {
      "cell_type": "markdown",
      "metadata": {
        "id": "Q_cHkbkd-Req"
      },
      "source": [
        "### 3. Run Script"
      ]
    },
    {
      "cell_type": "code",
      "metadata": {
        "colab": {
          "base_uri": "https://localhost:8080/"
        },
        "id": "fcVmWw33-Rje",
        "outputId": "dea8c981-e374-4242-dacb-b1a72c8eabcf"
      },
      "source": [
        "for file in os.listdir(dir_to_work):\r\n",
        "    if file.endswith(file_ext):\r\n",
        "        thefile = os.path.join(INPUT_DIR, file)\r\n",
        "        print(f'ori_file path: {thefile}')\r\n",
        "\r\n",
        "        file_name, file_ext = os.path.splitext(thefile)\r\n",
        "        file_name = file_name.split('/')[-1]\r\n",
        "        print(f'ori_file name: {file_name}')\r\n",
        "\r\n",
        "        if len(file_name) < 6:\r\n",
        "          newfile_name = \"0\" + file_name\r\n",
        "          print(f'new_file name: {newfile_name}')\r\n",
        "\r\n",
        "          newfile = os.path.join(OUTPUT_DIR, newfile_name)\r\n",
        "          newfile = newfile + file_ext\r\n",
        "          print(f'new_file path: {newfile}')\r\n",
        "          print('\\n')\r\n",
        "          # os.rename(thefile, newfile) # uncomment this to apply\r\n",
        "        else:\r\n",
        "          print('\\n')"
      ],
      "execution_count": 39,
      "outputs": [
        {
          "output_type": "stream",
          "text": [
            "ori_file path: /content/drive/My Drive/playground/files_to_rename/01.txt\n",
            "ori_file name: 01\n",
            "new_file name: 001\n",
            "new_file path: /content/drive/My Drive/playground/files_renamed/001.txt\n",
            "\n",
            "\n",
            "ori_file path: /content/drive/My Drive/playground/files_to_rename/02.txt\n",
            "ori_file name: 02\n",
            "new_file name: 002\n",
            "new_file path: /content/drive/My Drive/playground/files_renamed/002.txt\n",
            "\n",
            "\n",
            "ori_file path: /content/drive/My Drive/playground/files_to_rename/03.txt\n",
            "ori_file name: 03\n",
            "new_file name: 003\n",
            "new_file path: /content/drive/My Drive/playground/files_renamed/003.txt\n",
            "\n",
            "\n",
            "ori_file path: /content/drive/My Drive/playground/files_to_rename/04.txt\n",
            "ori_file name: 04\n",
            "new_file name: 004\n",
            "new_file path: /content/drive/My Drive/playground/files_renamed/004.txt\n",
            "\n",
            "\n",
            "ori_file path: /content/drive/My Drive/playground/files_to_rename/05.txt\n",
            "ori_file name: 05\n",
            "new_file name: 005\n",
            "new_file path: /content/drive/My Drive/playground/files_renamed/005.txt\n",
            "\n",
            "\n"
          ],
          "name": "stdout"
        }
      ]
    },
    {
      "cell_type": "markdown",
      "metadata": {
        "id": "1-BCYwOK-Rn4"
      },
      "source": [
        "### 4. Unmount Google Drive"
      ]
    },
    {
      "cell_type": "code",
      "metadata": {
        "colab": {
          "base_uri": "https://localhost:8080/"
        },
        "id": "nPt-WUub-Rs1",
        "outputId": "9554784c-cf33-4c3a-a8b5-68b08daaa7dd"
      },
      "source": [
        "drive.flush_and_unmount()\r\n",
        "print('All changes made in this colab session should now be visible in Drive.')"
      ],
      "execution_count": 40,
      "outputs": [
        {
          "output_type": "stream",
          "text": [
            "All changes made in this colab session should now be visible in Drive.\n"
          ],
          "name": "stdout"
        }
      ]
    }
  ]
}